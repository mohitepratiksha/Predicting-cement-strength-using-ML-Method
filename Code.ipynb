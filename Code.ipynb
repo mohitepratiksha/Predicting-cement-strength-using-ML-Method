{
 "cells": [
  {
   "cell_type": "code",
   "execution_count": null,
   "metadata": {
    "_cell_guid": "b1076dfc-b9ad-4769-8c92-a6c4dae69d19",
    "_uuid": "8f2839f25d086af736a60e9eeb907d3b93b6e0e5"
   },
   "outputs": [],
   "source": [
    "# This Python 3 environment comes with many helpful analytics libraries installed\n",
    "# It is defined by the kaggle/python Docker image: https://github.com/kaggle/docker-python\n",
    "# For example, here's several helpful packages to load\n",
    "\n",
    "import numpy as np # linear algebra\n",
    "import pandas as pd # data processing, CSV file I/O (e.g. pd.read_csv)\n",
    "\n",
    "# Input data files are available in the read-only \"../input/\" directory\n",
    "# For example, running this (by clicking run or pressing Shift+Enter) will list all files under the input directory\n",
    "\n",
    "import os\n",
    "for dirname, _, filenames in os.walk('/kaggle/input'):\n",
    "    for filename in filenames:\n",
    "        print(os.path.join(dirname, filename))\n",
    "\n",
    "# You can write up to 5GB to the current directory (/kaggle/working/) that gets preserved as output when you create a version using \"Save & Run All\" \n",
    "# You can also write temporary files to /kaggle/temp/, but they won't be saved outside of the current session"
   ]
  },
  {
   "cell_type": "code",
   "execution_count": null,
   "metadata": {
    "_cell_guid": "79c7e3d0-c299-4dcb-8224-4455121ee9b0",
    "_uuid": "d629ff2d2480ee46fbb7e2d37f6b5fab8052498a"
   },
   "outputs": [],
   "source": [
    "!nvidia-smi"
   ]
  },
  {
   "cell_type": "code",
   "execution_count": null,
   "metadata": {},
   "outputs": [],
   "source": [
    "import numpy as np\n",
    "import pandas as pd\n",
    "from sklearn.model_selection import train_test_split\n",
    "from keras.models import Sequential\n",
    "from keras.layers import Dense, Dropout\n",
    "from sklearn.preprocessing import StandardScaler\n",
    "from keras import metrics\n",
    "import seaborn as sns\n",
    "import matplotlib.pyplot as plt\n",
    "from keras import backend as K\n",
    "from keras.wrappers.scikit_learn import KerasRegressor\n",
    "from keras.utils import normalize"
   ]
  },
  {
   "cell_type": "code",
   "execution_count": null,
   "metadata": {},
   "outputs": [],
   "source": [
    "df_train=pd.read_csv('../input/aicomp/train_data.csv')\n",
    "df_train"
   ]
  },
  {
   "cell_type": "code",
   "execution_count": null,
   "metadata": {},
   "outputs": [],
   "source": [
    "# df_train['strength']=df_train['strength']/df_train['strength'].mean()\n",
    "\n",
    "Y=df_train['strength']\n",
    "# df_train['cement']=df_train['cement']*2\n",
    "# df_train['blast']=df_train['blast']*4\n",
    "# df_train['flyash']=df_train['flyash']*4\n",
    "# df_train['water']=df_train['water']*3\n",
    "# df_train['sp']=df_train['sp']*30\n",
    "# df_train['ca']=df_train['ca']/df_train['ca'].max()\n",
    "# df_train['fa']=df_train['fa']/df_train['fa'].max()\n",
    "# df_train['age']=df_train['age']/df_train['age'].max()\n",
    "X_train = df_train[['cement', 'blast', 'flyash', 'sp', 'ca', 'fa', 'age']]\n",
    "# scale = StandardScaler()\n",
    "# X_train = scale.fit_transform(X_train)\n",
    "# seed = 7\n",
    "# X_train=normalize(X_train,axis=-1,order=2)\n",
    "# Y=normalize(X_train,axis=-1,order=2)\n",
    "print(X_train)\n",
    "# X_train = (X_train.iloc[:,:].values).astype('float32')\n",
    "# np.random.seed(seed)\n",
    "X_train, X_test, y_train, y_test = train_test_split(X_train, Y, test_size=0.3,shuffle=True,random_state=42)"
   ]
  },
  {
   "cell_type": "code",
   "execution_count": null,
   "metadata": {},
   "outputs": [],
   "source": [
    "# from sklearn.preprocessing import MinMaxScaler\n",
    "# scaler = MinMaxScaler()\n",
    "# X_train= scaler.fit_transform(X_train)\n",
    "# X_test = scaler.transform(X_test)\n",
    "# print(X_test)"
   ]
  },
  {
   "cell_type": "code",
   "execution_count": null,
   "metadata": {},
   "outputs": [],
   "source": [
    "from sklearn.feature_selection import SelectKBest\n",
    "from sklearn.feature_selection import f_classif\n",
    "\n",
    "selector = SelectKBest(f_classif, k=7)\n",
    "selected_features = selector.fit_transform(X_train,y_train)\n",
    "f_score_indexes = (-selector.scores_).argsort()[:7]\n",
    "f_score_indexes"
   ]
  },
  {
   "cell_type": "code",
   "execution_count": null,
   "metadata": {},
   "outputs": [],
   "source": [
    "# from sklearn.model_selection import StratifiedKFold\n",
    "# seed = 7\n",
    "# np.random.seed(seed)\n",
    "# kfold = StratifiedKFold(n_splits=10, shuffle=True, random_state=seed)\n",
    "# cvscores = []\n",
    "# for train, test in kfold.split(X_train, Y):\n",
    "#     model = Sequential()\n",
    "#     model.add(Dense(1000, input_dim=X_train.shape[1], activation='relu'))\n",
    "#     model.add(Dropout(0.3))\n",
    "#     model.add(Dense(500, activation='relu'))\n",
    "#     model.add(Dense(250, activation='relu'))\n",
    "#     model.add(Dense(1))\n",
    "#     model.compile(loss='mean_squared_error', optimizer='adam', metrics=[metrics.mae])\n",
    "#     model.fit(X[train], Y[train], epochs=1400, batch_size=32, verbose=0)\n",
    "#     scores = model.evaluate(X[test], Y[test], verbose=0)\n",
    "#     print(\"%s: %.2f%%\" % (model.metrics_names[1], scores[1]*100))\n",
    "#     cvscores.append(scores[1] * 100)\n",
    "# print(\"%.2f%% (+/- %.2f%%)\" % (numpy.mean(cvscores), numpy.std(cvscores)))\n",
    "# from keras.layers import LeakyReLU"
   ]
  },
  {
   "cell_type": "code",
   "execution_count": null,
   "metadata": {},
   "outputs": [],
   "source": [
    "#best model is obtained using trial and error.therefore, values can be different\n",
    "def create_model():\n",
    "    model = Sequential()\n",
    "    model.add(Dense(512, input_dim=X_train.shape[1], activation='relu'))\n",
    "    model.add(Dropout(0.15))\n",
    "    model.add(Dense(256, activation='relu'))\n",
    "#     model.add(Dropout(0.15))\n",
    "    model.add(Dense(128, activation='relu'))\n",
    "#     model.add(Dropout(0.15))\n",
    "    model.add(Dense(64, activation='relu'))\n",
    "#     model.add(Dropout(0.15))\n",
    "    model.add(Dense(32, activation='relu'))\n",
    "#     model.add(Dense(25, activation='relu'))\n",
    "#     model.add(Dense(25, activation='relu'))\n",
    "#     model.add(Dense(25, activation='relu'))\n",
    "#     model.add(Dropout(0.25))\n",
    "#     model.add(Dense(2000, activation='relu'))\n",
    "#     model.add(Dense(1000, activation='relu'))\n",
    "#     model.add(Dropout(0.2))\n",
    "# #     model.add(Dropout(0.2))\n",
    "#     model.add(Dense(400, activation='relu'))\n",
    "#     model.add(Dense(200, activation='relu'))\n",
    "\n",
    "    model.add(Dense(1))\n",
    "    # Compile model\n",
    "    model.compile(optimizer ='adam', loss = 'mse', \n",
    "              metrics =[metrics.RootMeanSquaredError()])\n",
    "    return model"
   ]
  },
  {
   "cell_type": "code",
   "execution_count": null,
   "metadata": {},
   "outputs": [],
   "source": [
    "model = create_model()\n",
    "model.summary()"
   ]
  },
  {
   "cell_type": "code",
   "execution_count": null,
   "metadata": {},
   "outputs": [],
   "source": [
    "history = model.fit(X_train, y_train.values, validation_data=(X_test,y_test.values), epochs=1000, batch_size=16)"
   ]
  },
  {
   "cell_type": "code",
   "execution_count": null,
   "metadata": {},
   "outputs": [],
   "source": [
    "plt.plot(history.history['root_mean_squared_error'])\n",
    "plt.plot(history.history['val_root_mean_squared_error'])\n",
    "plt.title('model accuracy')\n",
    "plt.ylabel('accuracy')\n",
    "plt.xlabel('epoch')\n",
    "plt.legend(['train', 'test'], loc='upper left')\n",
    "plt.show()\n",
    "plt.plot(history.history['loss'])\n",
    "plt.plot(history.history['val_loss'])\n",
    "plt.title('model loss')\n",
    "plt.ylabel('loss')\n",
    "plt.xlabel('epoch')\n",
    "plt.legend(['train', 'test'], loc='upper left')\n",
    "plt.show()"
   ]
  },
  {
   "cell_type": "code",
   "execution_count": null,
   "metadata": {},
   "outputs": [],
   "source": [
    "df_que=pd.read_csv('../input/aicomp/test_data.csv')\n",
    "y_ans=model.predict(df_que)\n",
    "print(y_ans)\n",
    "y_ans=y_ans.flatten()"
   ]
  },
  {
   "cell_type": "code",
   "execution_count": null,
   "metadata": {},
   "outputs": [],
   "source": [
    "def write_preds(preds, fname):\n",
    "    pd.DataFrame({\"Id\": list(range(0,len(preds))), \"Predicted\": preds}).to_csv(fname, index=False, header=True)\n",
    "\n",
    "write_preds(y_ans, \"comp10.csv\")"
   ]
  }
 ],
 "metadata": {
  "kernelspec": {
   "display_name": "Python 3",
   "language": "python",
   "name": "python3"
  },
  "language_info": {
   "codemirror_mode": {
    "name": "ipython",
    "version": 3
   },
   "file_extension": ".py",
   "mimetype": "text/x-python",
   "name": "python",
   "nbconvert_exporter": "python",
   "pygments_lexer": "ipython3",
   "version": "3.8.5"
  }
 },
 "nbformat": 4,
 "nbformat_minor": 4
}
